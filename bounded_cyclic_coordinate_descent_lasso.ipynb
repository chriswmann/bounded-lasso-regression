{
 "cells": [
  {
   "cell_type": "markdown",
   "id": "e07d348d-c2ee-49f0-a213-8f7a7505beab",
   "metadata": {},
   "source": [
    "# Lasso Via Bounded Coordinate Descent\n",
    "\n",
    "This is an implementation of coordinate descent with bounded coefficients.\n",
    "\n",
    "# Known Issues\n",
    "1. It is pretty close to the sklearn implementation in terms of the resulting coefficients but there are issues as lambda increases – see the comparison with sklearn section of this notebook.  The coefficients approach zero in a comparable manner but do not match properly, sometimes with discrepancies in the order of 0.1.  I suspect this is an issue with the scale of lambda.  I.e. I think the coefficient paths are the same as for `sklearn` but the scaling of `lambda` does not match between the two implementations, so comparing each model with the same value of `lambda` (`alpha`) gives different amounts of regularisation.  (See the second useful resource link for some code to plot the coefficient paths which could be used to confirm this.)\n",
    "2. The implementation can be greatly improved and simplified.  E.g. I've included some logic to determine a range of lambdas to train on, which should be dropped.  Also, I think it would be better to handle adding the intercept inside the model class, rather than as an external step.\n",
    "3. OOP could be used to improve the structure of the CLasso class.\n",
    "4. The `__repr__` is pretty rubbish.\n",
    "\n",
    "## Some Useful Resources\n",
    "[This page](https://xavierbourretsicotte.github.io/lasso_derivation.html) has been useful in understanding the maths behind coordinate descent.  It is based on [this page](https://web.archive.org/web/20180724021415/http://jocelynchi.com/soft-thresholding-operator-and-the-lasso-solution).\n",
    "\n",
    "[This page](https://xavierbourretsicotte.github.io/lasso_implementation.html) is the implementation I've used below (with some modifications).\n",
    "\n",
    "[This Coursera video](https://www.coursera.org/lecture/ml-regression/deriving-the-lasso-coordinate-descent-update-6OLyn) is also useful in understanding the maths."
   ]
  },
  {
   "cell_type": "code",
   "execution_count": 1,
   "id": "d0edbf7d-757d-4baf-aa77-5313b4e09ae4",
   "metadata": {},
   "outputs": [],
   "source": [
    "from __future__ import annotations\n",
    "from typing import List, Optional, Union\n",
    "\n",
    "import matplotlib.pyplot as plt\n",
    "import numpy as np\n",
    "import pandas as pd\n",
    "\n",
    "from sklearn import datasets\n",
    "from sklearn.linear_model import Lasso\n",
    "from sklearn.metrics import mean_squared_error\n",
    "from sklearn.preprocessing import StandardScaler"
   ]
  },
  {
   "cell_type": "code",
   "execution_count": 2,
   "id": "eed4ff57-e5fd-4f93-acea-74276b8a8700",
   "metadata": {},
   "outputs": [],
   "source": [
    "def rmse(true, pred):\n",
    "\n",
    "    return np.sqrt(mean_squared_error(true, pred))"
   ]
  },
  {
   "cell_type": "code",
   "execution_count": 3,
   "id": "c05c6984-d74d-4e71-b024-99a1d984eac8",
   "metadata": {},
   "outputs": [],
   "source": [
    "data = datasets.fetch_california_housing()\n",
    "X = data.data\n",
    "y = data.target.reshape(-1, 1)"
   ]
  },
  {
   "cell_type": "code",
   "execution_count": 4,
   "id": "5c7ce6b1-0cbe-450b-bf36-f4d07146d330",
   "metadata": {},
   "outputs": [],
   "source": [
    "ss = StandardScaler()\n",
    "X = ss.fit_transform(X)"
   ]
  },
  {
   "cell_type": "code",
   "execution_count": 5,
   "id": "e38b3b50-a85a-4893-9379-83f27b0108e8",
   "metadata": {},
   "outputs": [
    {
     "data": {
      "text/html": [
       "<div>\n",
       "<style scoped>\n",
       "    .dataframe tbody tr th:only-of-type {\n",
       "        vertical-align: middle;\n",
       "    }\n",
       "\n",
       "    .dataframe tbody tr th {\n",
       "        vertical-align: top;\n",
       "    }\n",
       "\n",
       "    .dataframe thead th {\n",
       "        text-align: right;\n",
       "    }\n",
       "</style>\n",
       "<table border=\"1\" class=\"dataframe\">\n",
       "  <thead>\n",
       "    <tr style=\"text-align: right;\">\n",
       "      <th></th>\n",
       "      <th>MedInc</th>\n",
       "      <th>HouseAge</th>\n",
       "      <th>AveRooms</th>\n",
       "      <th>AveBedrms</th>\n",
       "      <th>Population</th>\n",
       "      <th>AveOccup</th>\n",
       "      <th>Latitude</th>\n",
       "      <th>Longitude</th>\n",
       "      <th>intercept</th>\n",
       "    </tr>\n",
       "  </thead>\n",
       "  <tbody>\n",
       "    <tr>\n",
       "      <th>0</th>\n",
       "      <td>2.344766</td>\n",
       "      <td>0.982143</td>\n",
       "      <td>0.628559</td>\n",
       "      <td>-0.153758</td>\n",
       "      <td>-0.974429</td>\n",
       "      <td>-0.049597</td>\n",
       "      <td>1.052548</td>\n",
       "      <td>-1.327835</td>\n",
       "      <td>1</td>\n",
       "    </tr>\n",
       "    <tr>\n",
       "      <th>1</th>\n",
       "      <td>2.332238</td>\n",
       "      <td>-0.607019</td>\n",
       "      <td>0.327041</td>\n",
       "      <td>-0.263336</td>\n",
       "      <td>0.861439</td>\n",
       "      <td>-0.092512</td>\n",
       "      <td>1.043185</td>\n",
       "      <td>-1.322844</td>\n",
       "      <td>1</td>\n",
       "    </tr>\n",
       "    <tr>\n",
       "      <th>2</th>\n",
       "      <td>1.782699</td>\n",
       "      <td>1.856182</td>\n",
       "      <td>1.155620</td>\n",
       "      <td>-0.049016</td>\n",
       "      <td>-0.820777</td>\n",
       "      <td>-0.025843</td>\n",
       "      <td>1.038503</td>\n",
       "      <td>-1.332827</td>\n",
       "      <td>1</td>\n",
       "    </tr>\n",
       "    <tr>\n",
       "      <th>3</th>\n",
       "      <td>0.932968</td>\n",
       "      <td>1.856182</td>\n",
       "      <td>0.156966</td>\n",
       "      <td>-0.049833</td>\n",
       "      <td>-0.766028</td>\n",
       "      <td>-0.050329</td>\n",
       "      <td>1.038503</td>\n",
       "      <td>-1.337818</td>\n",
       "      <td>1</td>\n",
       "    </tr>\n",
       "    <tr>\n",
       "      <th>4</th>\n",
       "      <td>-0.012881</td>\n",
       "      <td>1.856182</td>\n",
       "      <td>0.344711</td>\n",
       "      <td>-0.032906</td>\n",
       "      <td>-0.759847</td>\n",
       "      <td>-0.085616</td>\n",
       "      <td>1.038503</td>\n",
       "      <td>-1.337818</td>\n",
       "      <td>1</td>\n",
       "    </tr>\n",
       "  </tbody>\n",
       "</table>\n",
       "</div>"
      ],
      "text/plain": [
       "     MedInc  HouseAge  AveRooms  AveBedrms  Population  AveOccup  Latitude  \\\n",
       "0  2.344766  0.982143  0.628559  -0.153758   -0.974429 -0.049597  1.052548   \n",
       "1  2.332238 -0.607019  0.327041  -0.263336    0.861439 -0.092512  1.043185   \n",
       "2  1.782699  1.856182  1.155620  -0.049016   -0.820777 -0.025843  1.038503   \n",
       "3  0.932968  1.856182  0.156966  -0.049833   -0.766028 -0.050329  1.038503   \n",
       "4 -0.012881  1.856182  0.344711  -0.032906   -0.759847 -0.085616  1.038503   \n",
       "\n",
       "   Longitude  intercept  \n",
       "0  -1.327835          1  \n",
       "1  -1.322844          1  \n",
       "2  -1.332827          1  \n",
       "3  -1.337818          1  \n",
       "4  -1.337818          1  "
      ]
     },
     "execution_count": 5,
     "metadata": {},
     "output_type": "execute_result"
    }
   ],
   "source": [
    "X = pd.DataFrame(X, columns=data.feature_names)\n",
    "X['intercept'] = 1\n",
    "X.head()"
   ]
  },
  {
   "cell_type": "code",
   "execution_count": 6,
   "id": "a145a498-f670-4aa3-8b66-05990c337468",
   "metadata": {},
   "outputs": [],
   "source": [
    "features = X.columns"
   ]
  },
  {
   "cell_type": "code",
   "execution_count": 7,
   "id": "1103dfcd-9703-48be-bd50-ca1fa710d6d0",
   "metadata": {},
   "outputs": [],
   "source": [
    "class Bounds:\n",
    "    \n",
    "    def __init__(self, lower=-np.inf, upper=np.inf) -> None:\n",
    "        \n",
    "        self.lower = lower\n",
    "        self.upper = upper\n",
    "        \n",
    "        self._check_bounds()\n",
    "        \n",
    "    def _check_bounds(self) -> None:\n",
    "        '''Make sure lower is less than upper.\n",
    "        '''\n",
    "        \n",
    "        if self.lower >= self.upper:\n",
    "            err_msg = f'Lower bound ({self.lower}) should be less than upper bound ({self.upper}).'\n",
    "            raise ValueError(err_msg)\n",
    "            \n",
    "            \n",
    "    def __repr__(self):\n",
    "        \n",
    "        return f'{self.__class__.__name__}, lower: {self.lower}, upper: {self.upper}'"
   ]
  },
  {
   "cell_type": "markdown",
   "id": "f400ea7b-17ae-4171-bdba-354e412ff57b",
   "metadata": {},
   "source": [
    "# A Few Notes on the Maths\n",
    "\n",
    "The useful resources give the full picture.  The following is a very quick rundown.\n",
    "\n",
    "Recall this is the Lasso objective function in Lagrangian form:\n",
    "$$\n",
    "\\min\\limits_{\\beta} \\|y-X\\beta\\|^2 + \\lambda \\|\\beta_p\\|_1\n",
    "$$\n",
    "\n",
    "We know the first term's analytical solution, as this is simply the OLS term.  The challenge with \n",
    "Lasso is that the regularisation term, is not differentiable as the derivative at zero is undefined.\n",
    "\n",
    "Coordinate descent minimises this objective function by finding the minimum of each 'coordinate' (for each feature) in turn.  Technically the implementation below is cyclic coordinate descent because we just loop over the features repeatedly until some maximum number of iterations.  There are alternatives, such as random coordinate descent where the feature to be used to minimise the objective is selected at random in each loop.\n",
    "\n",
    "By solving in one coordinate at a time, we can find a solution to the Lasso objective function.  The solution to the OLS portion is given by:\n",
    "$$\n",
    "\\rho_j = \\sum_{i=1}^m x_j^{(i)}  (y^{(i)}  - \\sum_{k \\neq j}^n \\theta_k x_k^{(i)} ) = \\sum_{i=1}^m x_j^{(i)}  (y^{(i)}  - \\hat y^{(i)}_{pred} + \\theta_j x_j^{(i)} )\n",
    "$$\n",
    "\n",
    "Where $\\theta$ is the coefficients vector, $j$ indexes the current feature, $k$ indexes all of the non-current features and $i$ indexes the sample (row).\n",
    "\n",
    "This leaves us with the regularisation term, which is a function of the absolute value of the coefficients:"
   ]
  },
  {
   "cell_type": "code",
   "execution_count": 8,
   "id": "a291a502-cd0e-4cc7-8629-53b88ae304e2",
   "metadata": {},
   "outputs": [
    {
     "data": {
      "image/png": "[encoded data removed]",
      "text/plain": [
       "<Figure size 432x288 with 1 Axes>"
      ]
     },
     "metadata": {
      "needs_background": "light"
     },
     "output_type": "display_data"
    }
   ],
   "source": [
    "x_plot = np.linspace(-1, 1, 1000)\n",
    "y_plot = np.abs(x_plot)\n",
    "plt.plot(x_plot, y_plot)\n",
    "plt.title('Plot of abs(x)');"
   ]
  },
  {
   "cell_type": "markdown",
   "id": "6cb4dbbf-0531-4418-9e16-da90dc7dc441",
   "metadata": {},
   "source": [
    "The above plot reminds us why the gradient at $|0|$ is undefined.\n",
    "\n",
    "To overcome this, we use the concepts of subgradients and subdifferentials.  A subdifferential is the set of all gradients which are below the curve being differentiated.  A subgradient is one of those gradients.  (These concepts are derived from first order Taylor approximations, again, see the useful resources for more info.)"
   ]
  },
  {
   "cell_type": "code",
   "execution_count": 9,
   "id": "65b34455-ba99-4af6-801d-2acdcdcde2a4",
   "metadata": {},
   "outputs": [
    {
     "data": {
      "image/png": "[encoded data removed]",
      "text/plain": [
       "<Figure size 432x288 with 1 Axes>"
      ]
     },
     "metadata": {
      "needs_background": "light"
     },
     "output_type": "display_data"
    }
   ],
   "source": [
    "# Lines below the |x| function\n",
    "x_plot = np.linspace(-1, 1, 100)\n",
    "y_plot = np.abs(x_plot)\n",
    "lines = [x_plot[i] * x_plot  for i in range(len(x_plot))]\n",
    "\n",
    "# Plot\n",
    "fig = plt.figure()\n",
    "ax = fig.add_subplot(1, 1, 1)\n",
    "ax.plot(x_plot, y_plot)\n",
    "[ax.plot(x_plot, lines[i], color='blue', alpha=0.2) for i in range(len(x_plot))]\n",
    "ax.set_ylim(-0.01, 1)\n",
    "ax.set_xlabel('x')\n",
    "ax.set_ylabel('$|x|$')\n",
    "plt.title('Subgradients of $y = |x|$')\n",
    "plt.show()"
   ]
  },
  {
   "cell_type": "markdown",
   "id": "61f442ee-c856-42cb-a398-79a85647b40b",
   "metadata": {},
   "source": [
    "For the region below $x=0$, the gradient of $y = |x|$ is $-1$; above $x=0$, the gradient of $y = |x|$ is $1$.  Since the Lasso regularisation term is multiplied be a scaling factor ($\\alpha$ in `sklearn` notation and $\\lambda$ in many other places, the gradients above and below $x=0$ are $\\lambda$ and $-\\lambda$, respectively.\n",
    "\n",
    "This is where the _soft threshold_ function is derived from: if $\\rho$ is more than some small distance (this turns out to be $\\lambda / 2$ in the maths but the factor of $\\frac{1}{2}$ just scales $\\lambda$, so is ommitted below and in the implementation itself) below zero, the regularisation term is $-\\lambda$, if $\\rho$ is more than some small distance above zero, the regularisation term is $\\lambda$.  If $\\rho$ is within a small distance of plus or minus zero, the regularisation term is 0.  This can be seen in the following, simplified, version of `_soft_threshold`.\n",
    "\n",
    "```\n",
    "def _soft_threshold(ρ, λ):\n",
    "        '''Soft threshold function for subgradient of Lasso \n",
    "        regularisation term.\n",
    "        '''\n",
    "\n",
    "        if ρ < -λ:\n",
    "            return (ρ + λ)\n",
    "        elif ρ > λ:\n",
    "            return (ρ - λ)\n",
    "        else: \n",
    "            return 0\n",
    "```"
   ]
  },
  {
   "cell_type": "markdown",
   "id": "57494267-43e1-4068-ad13-61e5d005927b",
   "metadata": {},
   "source": [
    "Note, there is also a normalisation term that arises from the mathematics:\n",
    "$$\n",
    "\\sum_{i=1}^m (x_j^{(i)})^2\n",
    "$$\n",
    "\n",
    "This is the L2 norm of the data for feature $j$."
   ]
  },
  {
   "cell_type": "markdown",
   "id": "8c6f32b8-9853-4241-af0e-b401d48bf2c1",
   "metadata": {},
   "source": [
    "# Implementation"
   ]
  },
  {
   "cell_type": "code",
   "execution_count": 10,
   "id": "77a10442-fce3-4201-80f9-202f8168904c",
   "metadata": {
    "tags": []
   },
   "outputs": [],
   "source": [
    "class CLasso:\n",
    "    \"\"\"Constrained Lasso.\n",
    "    \"\"\"\n",
    "    \n",
    "    def __init__(\n",
    "        self,\n",
    "        X: np.array,\n",
    "        y: np.array,\n",
    "        features: List[str],\n",
    "        bounds: Optional[List[Bounds]] = None,\n",
    "        max_iters=1000,\n",
    "    ) -> None:\n",
    "        \n",
    "        self.X = X\n",
    "        self.y = y\n",
    "        self.features = features\n",
    "        \n",
    "        self.n_features = len(features)\n",
    "        self.n_samples = len(X)\n",
    "        \n",
    "        # If we don't normalise the data first, we need to apply a \n",
    "        # normalisation term in the soft threshold\n",
    "        self.normalisation_terms = np.sum(np.square(X), axis=0)\n",
    "        \n",
    "        # We don't apply any regularisation or bounds to the intercept, so \n",
    "        # need one less bounds than features here.\n",
    "        \n",
    "        if bounds is None:\n",
    "            self.bounds = [\n",
    "                Bounds() for _\n",
    "                in range(self.n_features)\n",
    "            ]\n",
    "        else:\n",
    "            err_msg = f'Number of bounds, {len(bounds)}, does not match number of non-intercept features {self.n_features - 1}'\n",
    "            if len(bounds) != self.n_features - 1:\n",
    "                raise ValueError(err_msg)\n",
    "            self.bounds = bounds\n",
    "        \n",
    "        self.max_iters = max_iters\n",
    "        \n",
    "        self.θ = np.ones((self.n_features, 1))\n",
    "        self.coefs_ = {}\n",
    "        \n",
    "        self.lambdas = None\n",
    "        self.fitted = False\n",
    "        \n",
    "        self.ols_coefs = None\n",
    "        self.l1_norm_ols_coefs = None\n",
    "        \n",
    "        self._ols()\n",
    "        self._l1_norm_ols_coefs()\n",
    "        \n",
    "    \n",
    "    def fit(self, lambdas: Optional[Union[List, np.array]]) -> BoundedLasso:\n",
    "        '''Wrap around _coordinate_descent_lasso to loop through a \n",
    "        range of lambdas.\n",
    "        '''\n",
    "        \n",
    "        if lambdas is None:\n",
    "            lambdas = self._get_lambdas()\n",
    "\n",
    "        self.lambdas = lambdas\n",
    "        for lambda_ in lambdas:\n",
    "            self._coordinate_descent_lasso(λ=lambda_)\n",
    "            \n",
    "        self.fitted = True\n",
    "        \n",
    "        return self\n",
    "    \n",
    "    \n",
    "    def predict(self, X: np.array) -> np.array:\n",
    "        '''Predict for new data for each lambda used to compute a \n",
    "        set of coefficients.\n",
    "        \n",
    "        Must ensure an intercept column has been appended to the data\n",
    "        as the last (rightmost) column.\n",
    "        '''\n",
    "        \n",
    "        preds = {}\n",
    "        for lambda_ in self.lambdas:\n",
    "\n",
    "            coefs = np.array(list(self.coefs_[lambda_].values()))\n",
    "            preds[lambda_] = X @ coefs\n",
    "        \n",
    "        return preds\n",
    "        \n",
    "    \n",
    "    def _get_lambdas(self) -> np.array:\n",
    "        '''Generate a list of lambdas to compute coefficients for.\n",
    "        \n",
    "        Uses the L1 norm of the OLS solution to compute an upper bound and \n",
    "        upper_bound / 1e4 to get the lower bound.\n",
    "    \n",
    "        '''\n",
    "        upper = self.l1_norm_ols_coefs\n",
    "        lower = self.l1_norm_ols_coefs / 1e4\n",
    "        num = 10\n",
    "        \n",
    "        lambdas = np.logspace(np.log(lower), np.log(upper), num)\n",
    "        \n",
    "        return lambdas\n",
    "\n",
    "    def _ols(self):\n",
    "        '''Get the OLS solution (without regularisation) to the problem.\n",
    "        \n",
    "        Currently, the only use for this is to use the coefficients to set the \n",
    "        upper limit for the list of lambdas that is generated if no list is \n",
    "        provided.\n",
    "        '''\n",
    "        \n",
    "        ols_coefs, residuals, rank, s = np.linalg.lstsq(self.X, self.y, rcond=None)\n",
    "        self.ols_coefs = ols_coefs\n",
    "        \n",
    "        \n",
    "    def _l1_norm_ols_coefs(self):\n",
    "        '''Get the L1 norm of the OLS coefficients.\n",
    "        Used to set the upper limit of lambda.\n",
    "        '''\n",
    "        \n",
    "        self.l1_norm_ols_coefs = np.linalg.norm(self.ols_coefs, ord=1)\n",
    "        \n",
    "    def _coordinate_descent_lasso(self, λ):\n",
    "        '''Coordinate gradient descent for Lasso regression.\n",
    "        \n",
    "        Will always use the maximum allowable number of iterations.\n",
    "        Provided n_samples > n_features, the problem is convex and so \n",
    "        more iterations will just improve precision of the computed \n",
    "        coefficients, within the limits of numerical precision.\n",
    "        '''\n",
    "        \n",
    "        for i in range(self.max_iters):\n",
    "            \n",
    "            for j in range(self.n_features):\n",
    "                # Select the feature we are optimising\n",
    "                X_j = self.X[:, j].reshape(-1, 1)\n",
    "                \n",
    "                # Make a prediction with the current thetas\n",
    "                y_hat = self.X @ self.θ\n",
    "                \n",
    "                \n",
    "                rho = X_j.T @ (self.y - y_hat  + self.θ[j] * X_j)\n",
    "                \n",
    "                if self.features[j] == 'intercept':\n",
    "                    self.θ[j] = rho  / self.normalisation_terms[j]\n",
    "                else:\n",
    "                    self.θ[j] =  self._soft_threshold(rho, λ, j)\n",
    "                    \n",
    "        self.coefs_[λ] = dict(zip(self.features, self.θ.flatten().tolist()))\n",
    "        \n",
    "                \n",
    "    def _soft_threshold(self, ρ, λ, j):\n",
    "        '''Soft threshold function for subgradient of Lasso \n",
    "        regularisation term.\n",
    "        \n",
    "        Requires the data to not be normalised.\n",
    "        '''\n",
    "        \n",
    "        # Scale lambda to be on a range more similar to sklearn's alpha\n",
    "        # Arbitrarily done here so this should be investigated\n",
    "        λ *= 2 * self.n_samples\n",
    "        \n",
    "        if ρ < self.bounds[j].lower:\n",
    "            return self.bounds[j].lower\n",
    "        elif ρ > self.bounds[j].upper:\n",
    "            return self.bounds[j].upper\n",
    "        elif ρ < -λ:\n",
    "            return (ρ + λ) / self.normalisation_terms[j]\n",
    "        elif ρ > λ:\n",
    "            return (ρ - λ) / self.normalisation_terms[j]\n",
    "        else: \n",
    "            return 0\n",
    "        \n",
    "    def __repr__(self):\n",
    "        \n",
    "        fitted = 'Fitted' if self.fitted else 'Unfitted'\n",
    "        return f'{fitted} {self.__class__.__name__} model with bounds of {self.bounds}'"
   ]
  },
  {
   "cell_type": "code",
   "execution_count": 11,
   "id": "d1af3ae4-1dcf-46fa-8cca-0ec2a698e220",
   "metadata": {
    "tags": []
   },
   "outputs": [],
   "source": [
    "classo = CLasso(\n",
    "    X=X.values,\n",
    "    y=y,\n",
    "    features=features,\n",
    ")"
   ]
  },
  {
   "cell_type": "code",
   "execution_count": 12,
   "id": "f251df88-02e0-4de2-828f-f17355b153d0",
   "metadata": {},
   "outputs": [],
   "source": [
    "lambdas = [1e-8, 1e-6, 1e-4, 5e-4, 1e-3, 5e-3, 1e-2, 5e-2, 1e-1, 1]"
   ]
  },
  {
   "cell_type": "code",
   "execution_count": 13,
   "id": "4420eb74-d150-42aa-9e33-97bf5db3e801",
   "metadata": {},
   "outputs": [
    {
     "data": {
      "text/plain": [
       "Fitted CLasso model with bounds of [Bounds, lower: -inf, upper: inf, Bounds, lower: -inf, upper: inf, Bounds, lower: -inf, upper: inf, Bounds, lower: -inf, upper: inf, Bounds, lower: -inf, upper: inf, Bounds, lower: -inf, upper: inf, Bounds, lower: -inf, upper: inf, Bounds, lower: -inf, upper: inf, Bounds, lower: -inf, upper: inf]"
      ]
     },
     "execution_count": 13,
     "metadata": {},
     "output_type": "execute_result"
    }
   ],
   "source": [
    "# %%timeit\n",
    "\n",
    "classo.fit(lambdas=lambdas)"
   ]
  },
  {
   "cell_type": "code",
   "execution_count": 14,
   "id": "447c768e-d58f-414c-a3da-6709f7f56e1e",
   "metadata": {},
   "outputs": [
    {
     "data": {
      "text/plain": [
       "{1e-08: {'MedInc': 0.8296191994360201,\n",
       "  'HouseAge': 0.11875166936321142,\n",
       "  'AveRooms': -0.2655266043982511,\n",
       "  'AveBedrms': 0.3056959555655638,\n",
       "  'Population': -0.004502974365417709,\n",
       "  'AveOccup': -0.039326248555480184,\n",
       "  'Latitude': -0.899885441521409,\n",
       "  'Longitude': -0.8705407766064438,\n",
       "  'intercept': 2.068558169089139},\n",
       " 1e-06: {'MedInc': 0.8296088198373934,\n",
       "  'HouseAge': 0.11875346631910637,\n",
       "  'AveRooms': -0.26549936866958845,\n",
       "  'AveBedrms': 0.3056688059297144,\n",
       "  'Population': -0.004500306593012022,\n",
       "  'AveOccup': -0.039324424711287886,\n",
       "  'Latitude': -0.8998643651048045,\n",
       "  'Longitude': -0.870518429407106,\n",
       "  'intercept': 2.068558169089139},\n",
       " 0.0001: {'MedInc': 0.8285708599746814,\n",
       "  'HouseAge': 0.11893316190856829,\n",
       "  'AveRooms': -0.26277579580325444,\n",
       "  'AveBedrms': 0.3029538423447352,\n",
       "  'Population': -0.004233529352455765,\n",
       "  'AveOccup': -0.039142040292055695,\n",
       "  'Latitude': -0.8977567234446717,\n",
       "  'Longitude': -0.8682837094736233,\n",
       "  'intercept': 2.068558169089139},\n",
       " 0.0005: {'MedInc': 0.8243770827516019,\n",
       "  'HouseAge': 0.11965920469427353,\n",
       "  'AveRooms': -0.2517714609897855,\n",
       "  'AveBedrms': 0.2919842925064365,\n",
       "  'Population': -0.0031556415118241597,\n",
       "  'AveOccup': -0.03840513354768323,\n",
       "  'Latitude': -0.8892409995653425,\n",
       "  'Longitude': -0.8592545380252047,\n",
       "  'intercept': 2.068558169089139},\n",
       " 0.001: {'MedInc': 0.8191348612227548,\n",
       "  'HouseAge': 0.12056675817640564,\n",
       "  'AveRooms': -0.23801604247295147,\n",
       "  'AveBedrms': 0.2782723552085648,\n",
       "  'Population': -0.0018082817110345012,\n",
       "  'AveOccup': -0.03748400011721774,\n",
       "  'Latitude': -0.8785963447161755,\n",
       "  'Longitude': -0.8479680737146758,\n",
       "  'intercept': 2.068558169089139},\n",
       " 0.005: {'MedInc': 0.7769455837237473,\n",
       "  'HouseAge': 0.12482637796785621,\n",
       "  'AveRooms': -0.12889922284931848,\n",
       "  'AveBedrms': 0.16873121107077846,\n",
       "  'Population': 0.0,\n",
       "  'AveOccup': -0.029436607816215786,\n",
       "  'Latitude': -0.7960557693310778,\n",
       "  'Longitude': -0.7595586199718263,\n",
       "  'intercept': 2.06855816908914},\n",
       " 0.01: {'MedInc': 0.7271172949473349,\n",
       "  'HouseAge': 0.12930422994865273,\n",
       "  'AveRooms': 0.0,\n",
       "  'AveBedrms': 0.037979325927525655,\n",
       "  'Population': 0.0,\n",
       "  'AveOccup': -0.019269139363261915,\n",
       "  'Latitude': -0.6910883044732155,\n",
       "  'Longitude': -0.6475011137317732,\n",
       "  'intercept': 2.0685581690891413},\n",
       " 0.05: {'MedInc': 0.7057134278702498,\n",
       "  'HouseAge': 0.10601099517501261,\n",
       "  'AveRooms': 0.0,\n",
       "  'AveBedrms': 0.0,\n",
       "  'Population': 0.0,\n",
       "  'AveOccup': 0.0,\n",
       "  'Latitude': -0.011212662712874542,\n",
       "  'Longitude': 0.0,\n",
       "  'intercept': 2.068558169089147},\n",
       " 0.1: {'MedInc': 0.5939893889648997,\n",
       "  'HouseAge': 0.0,\n",
       "  'AveRooms': 0.0,\n",
       "  'AveBedrms': 0.0,\n",
       "  'Population': 0.0,\n",
       "  'AveOccup': 0.0,\n",
       "  'Latitude': 0.0,\n",
       "  'Longitude': 0.0,\n",
       "  'intercept': 2.0685581690891475},\n",
       " 1: {'MedInc': 0.0,\n",
       "  'HouseAge': 0.0,\n",
       "  'AveRooms': 0.0,\n",
       "  'AveBedrms': 0.0,\n",
       "  'Population': 0.0,\n",
       "  'AveOccup': 0.0,\n",
       "  'Latitude': 0.0,\n",
       "  'Longitude': 0.0,\n",
       "  'intercept': 2.0685581690891466}}"
      ]
     },
     "execution_count": 14,
     "metadata": {},
     "output_type": "execute_result"
    }
   ],
   "source": [
    "classo.coefs_"
   ]
  },
  {
   "cell_type": "code",
   "execution_count": 15,
   "id": "74d3e4e4-1780-43e0-a031-868af54e2b81",
   "metadata": {},
   "outputs": [],
   "source": [
    "preds = classo.predict(X.values)"
   ]
  },
  {
   "cell_type": "code",
   "execution_count": 16,
   "id": "96ae2932-3ac9-41c7-84fd-56dfece31654",
   "metadata": {},
   "outputs": [
    {
     "name": "stdout",
     "output_type": "stream",
     "text": [
      "0.0000, 0.7241001216576541\n",
      "0.0000, 0.724100121812318\n",
      "0.0001, 0.7241016684486077\n",
      "0.0005, 0.7241387904406582\n",
      "0.0010, 0.7242547844022963\n",
      "0.0050, 0.727859505616037\n",
      "0.0100, 0.7386696788812306\n",
      "0.0500, 0.8210612463533518\n",
      "0.1000, 0.8608897434009495\n",
      "1.0000, 1.153928204041225\n"
     ]
    }
   ],
   "source": [
    "for lambda_, pred in preds.items():\n",
    "    print(f'{lambda_:.4f}, {rmse(y, pred)}')"
   ]
  },
  {
   "cell_type": "code",
   "execution_count": 17,
   "id": "e71d07d9-0b4f-4b4a-9985-e8fdf7400255",
   "metadata": {},
   "outputs": [
    {
     "data": {
      "text/plain": [
       "2.068558169089147"
      ]
     },
     "execution_count": 17,
     "metadata": {},
     "output_type": "execute_result"
    }
   ],
   "source": [
    "y.mean()"
   ]
  },
  {
   "cell_type": "code",
   "execution_count": 18,
   "id": "49bc250a-2d34-479d-b2ac-80094e808c88",
   "metadata": {},
   "outputs": [],
   "source": [
    "lowest_alpha_pred = X.values @ list(classo.coefs_[1e-8].values())"
   ]
  },
  {
   "cell_type": "code",
   "execution_count": 19,
   "id": "43cd012b-7bbf-476c-8582-09be86d6bc9e",
   "metadata": {},
   "outputs": [
    {
     "data": {
      "text/plain": [
       "(2.0685581690891475, 0.8984593371673665)"
      ]
     },
     "execution_count": 19,
     "metadata": {},
     "output_type": "execute_result"
    }
   ],
   "source": [
    "lowest_alpha_pred.mean(), lowest_alpha_pred.std()"
   ]
  },
  {
   "cell_type": "markdown",
   "id": "affa63fc-ed34-4480-a600-c892af931ff9",
   "metadata": {},
   "source": [
    "# Compare to sklearn"
   ]
  },
  {
   "cell_type": "code",
   "execution_count": 20,
   "id": "9ff84e40-3d13-4243-b880-6826fb18c726",
   "metadata": {},
   "outputs": [
    {
     "name": "stdout",
     "output_type": "stream",
     "text": [
      "1e-08\n",
      "[ 0.8296192   0.11875167 -0.2655266   0.30569596 -0.00450297 -0.03932625\n",
      " -0.89988544 -0.87054078  2.06855817]\n",
      "[ 0.82961925  0.11875166 -0.26552674  0.30569609 -0.00450299 -0.03932626\n",
      " -0.89988555 -0.87054089  2.06855817]\n",
      "1.3978414870052802e-07\n",
      "\n",
      "1e-06\n",
      "[ 0.82960882  0.11875347 -0.26549937  0.30566881 -0.00450031 -0.03932442\n",
      " -0.89986437 -0.87051843  2.06855817]\n",
      "[ 0.82961418  0.11875258 -0.26551334  0.30568269 -0.00450165 -0.03932535\n",
      " -0.89987474 -0.87052947  2.06855817]\n",
      "1.3973297946945351e-05\n",
      "\n",
      "0.0001\n",
      "[ 0.82857086  0.11893316 -0.2627758   0.30295384 -0.00423353 -0.03914204\n",
      " -0.89775672 -0.86828371  2.06855817]\n",
      "[ 0.82910679  0.11884435 -0.26417261  0.30434164 -0.00436762 -0.03923458\n",
      " -0.89879503 -0.86938865  2.06855817]\n",
      "0.0013968113447884734\n",
      "\n",
      "0.0005\n",
      "[ 0.82437708  0.1196592  -0.25177146  0.29198429 -0.00315564 -0.03840513\n",
      " -0.889241   -0.85925454  2.06855817]\n",
      "[ 0.82705039  0.11921412 -0.2587439   0.29891417 -0.00382645 -0.03886759\n",
      " -0.89444649 -0.86479188  2.06855817]\n",
      "0.006972442426777192\n",
      "\n",
      "0.001\n",
      "[ 8.19134861e-01  1.20566758e-01 -2.38016042e-01  2.78272355e-01\n",
      " -1.80828171e-03 -3.74840001e-02 -8.78596345e-01 -8.47968074e-01\n",
      "  2.06855817e+00]\n",
      "[ 0.8244684   0.11967446 -0.25193711  0.29211349 -0.00315059 -0.03840844\n",
      " -0.88903624 -0.85906895  2.06855817]\n",
      "0.013921062609725948\n",
      "\n",
      "0.005\n",
      "[ 0.77694558  0.12482638 -0.12889922  0.16873121  0.         -0.02943661\n",
      " -0.79605577 -0.75955862  2.06855817]\n",
      "[ 0.80357379  0.12257563 -0.19739679  0.23749885 -0.         -0.03455901\n",
      " -0.84680585 -0.81411624  2.06855817]\n",
      "0.06876764252041151\n",
      "\n",
      "0.01\n",
      "[ 0.72711729  0.12930423  0.          0.03797933  0.         -0.01926914\n",
      " -0.6910883  -0.64750111  2.06855817]\n",
      "[ 0.77722333  0.12486709 -0.12940585  0.16912537 -0.         -0.02944551\n",
      " -0.79543737 -0.75899738  2.06855817]\n",
      "0.1311460475803184\n",
      "\n",
      "0.05\n",
      "[ 0.70571343  0.106011    0.          0.          0.          0.\n",
      " -0.01121266  0.          2.06855817]\n",
      "[ 0.73654297  0.13900648 -0.          0.          0.         -0.\n",
      " -0.25950684 -0.21678118  2.06855817]\n",
      "0.24829417908542709\n",
      "\n",
      "0.1\n",
      "[0.59398939 0.         0.         0.         0.         0.\n",
      " 0.         0.         2.06855817]\n",
      "[ 0.70571337  0.10601099 -0.         -0.         -0.         -0.\n",
      " -0.01121267 -0.          2.06855817]\n",
      "0.11172398399443517\n",
      "\n",
      "1\n",
      "[0.         0.         0.         0.         0.         0.\n",
      " 0.         0.         2.06855817]\n",
      "[ 0.          0.          0.         -0.         -0.         -0.\n",
      " -0.         -0.          2.06855817]\n",
      "4.440892098500626e-16\n",
      "\n"
     ]
    }
   ],
   "source": [
    "for alpha in classo.coefs_:\n",
    "    lasso = Lasso(alpha=alpha)\n",
    "    lasso.fit(X.drop('intercept', axis=1), y)\n",
    "    lasso_coefs = np.append(lasso.coef_, lasso.intercept_)\n",
    "    classo_coefs = np.array(list(classo.coefs_[alpha].values()))\n",
    "    print(alpha)\n",
    "    print(classo_coefs)\n",
    "    print(lasso_coefs)\n",
    "    print(np.abs((classo_coefs - lasso_coefs)).max())\n",
    "    print()"
   ]
  },
  {
   "cell_type": "markdown",
   "id": "e7bc5989-e3b7-4c1c-9267-43e2bd0f11af",
   "metadata": {},
   "source": [
    "## Check Runtime"
   ]
  },
  {
   "cell_type": "code",
   "execution_count": 21,
   "id": "0693f7fd-3b8e-4908-ada4-b2771a6b9a43",
   "metadata": {},
   "outputs": [
    {
     "name": "stdout",
     "output_type": "stream",
     "text": [
      "846 ms ± 25.9 ms per loop (mean ± std. dev. of 7 runs, 1 loop each)\n"
     ]
    }
   ],
   "source": [
    "%%timeit\n",
    "\n",
    "# Single lambda\n",
    "classo.fit(lambdas=[1e-4])"
   ]
  },
  {
   "cell_type": "code",
   "execution_count": 22,
   "id": "bbe269c0-6230-4b29-9192-139429a85a62",
   "metadata": {},
   "outputs": [
    {
     "name": "stdout",
     "output_type": "stream",
     "text": [
      "Training time for 10 values of lambda\n"
     ]
    }
   ],
   "source": [
    "print(f'Training time for {len(lambdas)} values of lambda')"
   ]
  },
  {
   "cell_type": "code",
   "execution_count": 23,
   "id": "3efab196-0981-4dc2-9552-a356dbde6991",
   "metadata": {},
   "outputs": [
    {
     "name": "stdout",
     "output_type": "stream",
     "text": [
      "8.97 s ± 108 ms per loop (mean ± std. dev. of 7 runs, 1 loop each)\n"
     ]
    }
   ],
   "source": [
    "%%timeit\n",
    "\n",
    "classo.fit(lambdas=lambdas)"
   ]
  },
  {
   "cell_type": "code",
   "execution_count": 24,
   "id": "5eb78249-5bff-4317-87db-b5e09058d4e7",
   "metadata": {},
   "outputs": [],
   "source": [
    "bounds = [\n",
    "    Bounds(lower=-5, upper=5),\n",
    "    Bounds(lower=-6, upper=6),\n",
    "    Bounds(lower=-2, upper=2),\n",
    "    Bounds(lower=-3, upper=3),\n",
    "    Bounds(lower=0, upper=2),\n",
    "    Bounds(lower=-2, upper=0),\n",
    "    Bounds(lower=-4, upper=4),\n",
    "    Bounds(lower=-5, upper=5),\n",
    "]"
   ]
  },
  {
   "cell_type": "markdown",
   "id": "2f0db376-02be-495b-a679-f04a9519a0b9",
   "metadata": {},
   "source": [
    "# Check that Bounds Work"
   ]
  },
  {
   "cell_type": "code",
   "execution_count": 25,
   "id": "137dcbfd-c48d-4a49-aee8-a3d6619f918c",
   "metadata": {},
   "outputs": [],
   "source": [
    "classo2 = CLasso(\n",
    "    X=X.values,\n",
    "    y=y,\n",
    "    features=features,\n",
    "    bounds=bounds,\n",
    ")"
   ]
  },
  {
   "cell_type": "code",
   "execution_count": 26,
   "id": "99bbf964-000a-4b6a-992a-4e4ce1c6a601",
   "metadata": {},
   "outputs": [
    {
     "data": {
      "text/plain": [
       "Fitted CLasso model with bounds of [Bounds, lower: -5, upper: 5, Bounds, lower: -6, upper: 6, Bounds, lower: -2, upper: 2, Bounds, lower: -3, upper: 3, Bounds, lower: 0, upper: 2, Bounds, lower: -2, upper: 0, Bounds, lower: -4, upper: 4, Bounds, lower: -5, upper: 5]"
      ]
     },
     "execution_count": 26,
     "metadata": {},
     "output_type": "execute_result"
    }
   ],
   "source": [
    "classo2.fit(lambdas=[1e-8])"
   ]
  },
  {
   "cell_type": "code",
   "execution_count": 27,
   "id": "f264cdef-fe39-44e5-ba33-709fa68dd375",
   "metadata": {},
   "outputs": [
    {
     "data": {
      "text/plain": [
       "{1e-08: {'MedInc': 5.0,\n",
       "  'HouseAge': 6.0,\n",
       "  'AveRooms': -2.0,\n",
       "  'AveBedrms': 3.0,\n",
       "  'Population': 2.0,\n",
       "  'AveOccup': -2.0,\n",
       "  'Latitude': 4.0,\n",
       "  'Longitude': 5.0,\n",
       "  'intercept': 2.0685581690891937}}"
      ]
     },
     "execution_count": 27,
     "metadata": {},
     "output_type": "execute_result"
    }
   ],
   "source": [
    "classo2.coefs_"
   ]
  },
  {
   "cell_type": "markdown",
   "id": "f2d1f1ae-43de-408f-839e-7b8d969c3606",
   "metadata": {},
   "source": [
    "Note, neither regularisation nor bounds are applied to the intercept."
   ]
  },
  {
   "cell_type": "code",
   "execution_count": null,
   "id": "afee96a7-86eb-4537-918d-f40e348941c3",
   "metadata": {},
   "outputs": [],
   "source": []
  }
 ],
 "metadata": {
  "kernelspec": {
   "display_name": "Python 3 (ipykernel)",
   "language": "python",
   "name": "python3"
  },
  "language_info": {
   "codemirror_mode": {
    "name": "ipython",
    "version": 3
   },
   "file_extension": ".py",
   "mimetype": "text/x-python",
   "name": "python",
   "nbconvert_exporter": "python",
   "pygments_lexer": "ipython3",
   "version": "3.9.6"
  }
 },
 "nbformat": 4,
 "nbformat_minor": 5
}
